{
 "cells": [
  {
   "cell_type": "markdown",
   "id": "86b94f65-80d8-48ec-aa4e-938f758cbe8b",
   "metadata": {},
   "source": [
    "# Project Step 1: Data Exploration\n"
   ]
  },
  {
   "cell_type": "markdown",
   "id": "2eea04b4-bb75-4da3-ae6d-7fde8a1f4b4f",
   "metadata": {},
   "source": [
    "## 1. Load and inspect Data\n",
    "In this step, I will load the raw CSV file into a Pandas Dataframe. The goal is to inspect its structure and confirm the dataset is correctly balanced,\n",
    "ensuring the classifier will be trained on well-balanced dataset, preventing model biases.\n"
   ]
  },
  {
   "cell_type": "code",
   "execution_count": null,
   "id": "10299e29-3187-4021-8c05-8fb1e732af7a",
   "metadata": {},
   "outputs": [],
   "source": [
    "# Installation of the libraries requiered for the project\n",
    "!pip install pandas numpy scikit-learn matplotlib"
   ]
  },
  {
   "cell_type": "code",
   "execution_count": 10,
   "id": "5f2b1b61-8b67-48f4-b389-acaf83909ae5",
   "metadata": {},
   "outputs": [
    {
     "name": "stdout",
     "output_type": "stream",
     "text": [
      "---DATA HEAD(First 5 rows)---\n",
      "                                              review sentiment\n",
      "0  One of the other reviewers has mentioned that ...  positive\n",
      "1  A wonderful little production. <br /><br />The...  positive\n",
      "2  I thought this was a wonderful way to spend ti...  positive\n",
      "3  Basically there's a family where a little boy ...  negative\n",
      "4  Petter Mattei's \"Love in the Time of Money\" is...  positive\n",
      "\n",
      "--- SHAPE (rows,columns)---\n",
      "(50000, 2)\n",
      "\n",
      "---SENTIMENT COUNTS (checking for balance)---\n",
      "sentiment\n",
      "positive    25000\n",
      "negative    25000\n",
      "Name: count, dtype: int64\n"
     ]
    }
   ],
   "source": [
    "import pandas as pd \n",
    "\n",
    "# Load the dataset\n",
    "df = pd.read_csv('../data/IMDB Dataset.csv')\n",
    "\n",
    "# Display the Data\n",
    "print('---DATA HEAD(First 5 rows)---')\n",
    "print(df.head())\n",
    "\n",
    "print('\\n--- SHAPE (rows,columns)---')\n",
    "print(df.shape)\n",
    "\n",
    "print('\\n---SENTIMENT COUNTS (checking for balance)---')\n",
    "print(df['sentiment'].value_counts())"
   ]
  },
  {
   "cell_type": "markdown",
   "id": "762bd8ec-9010-4efb-8870-2ad72020dad7",
   "metadata": {},
   "source": [
    "## Initial Findings:\n",
    "* The dataset contains 50,000 rows and 2 columns: 'review' and 'sentiment'.\n",
    "* The dataset is perfectly balanced with 25,000 positive and 25,000 negative reviews. This is perfect for training an unbiased model.\n",
    "* The dataset contains HTML tags that must be removed in the cleaning phase."
   ]
  },
  {
   "cell_type": "code",
   "execution_count": null,
   "id": "652c84bf-ccdb-43ef-a093-fa1b475ec8ad",
   "metadata": {},
   "outputs": [],
   "source": []
  }
 ],
 "metadata": {
  "kernelspec": {
   "display_name": "Python 3 (ipykernel)",
   "language": "python",
   "name": "python3"
  },
  "language_info": {
   "codemirror_mode": {
    "name": "ipython",
    "version": 3
   },
   "file_extension": ".py",
   "mimetype": "text/x-python",
   "name": "python",
   "nbconvert_exporter": "python",
   "pygments_lexer": "ipython3",
   "version": "3.10.18"
  }
 },
 "nbformat": 4,
 "nbformat_minor": 5
}
